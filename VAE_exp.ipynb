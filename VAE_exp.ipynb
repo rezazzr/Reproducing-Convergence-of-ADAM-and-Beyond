{
  "nbformat": 4,
  "nbformat_minor": 0,
  "metadata": {
    "colab": {
      "name": "VAE_exp.ipynb",
      "version": "0.3.2",
      "provenance": [],
      "include_colab_link": true
    },
    "kernelspec": {
      "name": "python3",
      "display_name": "Python 3"
    },
    "accelerator": "GPU"
  },
  "cells": [
    {
      "cell_type": "markdown",
      "metadata": {
        "id": "view-in-github",
        "colab_type": "text"
      },

    },
    {
      "metadata": {
        "id": "qvpY3hqDyOeh",
        "colab_type": "text"
      },
      "cell_type": "markdown",
      "source": [
        "# Variational Autoencoders (VAE)\n",
        "---\n",
        "This file contains the main codes used to produce the results presented in the Figure $2$ of the report. Note that some parts of this code has been run in parallel to produce the results and hence we are just presenting a sample of what we have done. The implementations done here could be broken down into the following sections:\n",
        "\n",
        "1.  **Initialization and Helper Functions:** Here we upload the data and needed libraries and implement our helper functions.\n",
        "2.   **Model:** Here is where we build our model, train our model, and produce the needed results for the analysis in the report.\n",
        "\n"
      ]
    },
    {
      "metadata": {
        "id": "IZizE_FFzjSB",
        "colab_type": "text"
      },
      "cell_type": "markdown",
      "source": [
        "## 1. Initialization and Helper Functions"
      ]
    },
    {
      "metadata": {
        "id": "u9wgk3CR0r6A",
        "colab_type": "text"
      },
      "cell_type": "markdown",
      "source": [
        "### 1.1 Loading Needed Libraries"
      ]
    },
    {
      "metadata": {
        "id": "7-x3ak8I0LWv",
        "colab_type": "code",
        "colab": {}
      },
      "cell_type": "code",
      "source": [
        "import numpy as np\n",
        "import tensorflow as tf\n",
        "import matplotlib.image as matimg\n",
        "import matplotlib.pyplot as plt\n",
        "from scipy.stats import norm\n",
        "from keras.layers.core import Activation\n",
        "from keras import backend as K\n",
        "from keras.layers.normalization import BatchNormalization\n",
        "from keras.layers import Input, Dense, Lambda, Layer, Add, Multiply, Reshape, Conv2D,Conv2DTranspose,MaxPooling2D,UpSampling2D\n",
        "from keras.models import Model, Sequential\n",
        "from keras.datasets import mnist\n",
        "from keras import optimizers\n",
        "import glob, os"
      ],
      "execution_count": 0,
      "outputs": []
    },
    {
      "metadata": {
        "id": "PW4FIBGz0kL2",
        "colab_type": "text"
      },
      "cell_type": "markdown",
      "source": [
        "### 1.2 Loading Data\n",
        "Below we are loading the \"celebA\" data. Note that since the data is large and we are using Google Colaboratory for our implementations we could not load the entire data set. Instead we are loading only $10,000$ training points and $1,000$ validation points."
      ]
    },
    {
      "metadata": {
        "id": "zfISc3yjjKWD",
        "colab_type": "code",
        "colab": {}
      },
      "cell_type": "code",
      "source": [
        "from google.colab import files\n",
        "uploaded = files.upload()\n",
        "!ls"
      ],
      "execution_count": 0,
      "outputs": []
    },
    {
      "metadata": {
        "id": "foK7BXDXw_RY",
        "colab_type": "code",
        "colab": {}
      },
      "cell_type": "code",
      "source": [
        "import numpy as np\n",
        "t1=np.loadtxt('train_loss_deconv_MC1.txt')\n",
        "v1=np.loadtxt('val_loss_deconv_MC1.txt')\n",
        "ta=np.loadtxt('adam_train.txt')\n",
        "va=np.loadtxt('adam_val.txt')"
      ],
      "execution_count": 0,
      "outputs": []
    },
    {
      "metadata": {
        "id": "LeAnnHyZlesj",
        "colab_type": "code",
        "colab": {
          "base_uri": "https://localhost:8080/",
          "height": 85
        },
        "outputId": "51d589d5-0466-4f62-86fc-54b9d0557434"
      },
      "cell_type": "code",
      "source": [
        "\n",
        "\n",
        "def load_image(path):\n",
        "    image = matimg.imread(path)    \n",
        "    return image\n",
        "\n",
        "\n",
        "def load_local_data(path):\n",
        "    paths = glob.glob(os.path.join(path + \"/train\", \"*.jpg\"))\n",
        "    X_train = np.array( [ load_image(p) for p in paths ] )\n",
        "\n",
        "    paths = glob.glob(os.path.join(path + \"/test\", \"*.jpg\"))\n",
        "    X_test = np.array( [ load_image(p) for p in paths ] )\n",
        "\n",
        "    return X_train, X_test\n",
        "  \n",
        "\n",
        "(x_train_color, x_test_color) = load_local_data(\"dataset\")\n",
        "    \n",
        "x_train_color = x_train_color.astype('float32') / 255.\n",
        "x_test_color = x_test_color.astype('float32') / 255.\n",
        "\n",
        "x_train_color = x_train_color.reshape(x_train_color.shape[0],64*64*3)\n",
        "x_test_color = x_test_color.reshape(x_test_color.shape[0],64*64*3)\n",
        "\n",
        "print(\"train data size is:\")\n",
        "print(x_train_color.shape)\n",
        "\n",
        "print(\"test data size is:\")\n",
        "print(x_test_color.shape)\n"
      ],
      "execution_count": 0,
      "outputs": [
        {
          "output_type": "stream",
          "text": [
            "train data size is:\n",
            "(10000, 12288)\n",
            "test data size is:\n",
            "(1000, 12288)\n"
          ],
          "name": "stdout"
        }
      ]
    },
    {
      "metadata": {
        "id": "nfLeG5uh1DrP",
        "colab_type": "text"
      },
      "cell_type": "markdown",
      "source": [
        "### 1.3 Helper Functions\n",
        "Below we have our helper functions that will help us in the upsampling process."
      ]
    },
    {
      "metadata": {
        "id": "rRmOe7nsh9tW",
        "colab_type": "code",
        "colab": {}
      },
      "cell_type": "code",
      "source": [
        "\n",
        "def UpSample_BiLinear(x):\n",
        "  return tf.image.resize_images(x, size=(64,64), method=tf.image.ResizeMethod.BILINEAR,align_corners=False)\n",
        "\n",
        "def UpSample_NN(x):\n",
        "  return tf.image.resize_images(x, size=(64,64), method=tf.image.ResizeMethod.NEAREST_NEIGHBOR,align_corners=False)\n"
      ],
      "execution_count": 0,
      "outputs": []
    },
    {
      "metadata": {
        "id": "7mFx0_6r1R6X",
        "colab_type": "text"
      },
      "cell_type": "markdown",
      "source": [
        "## 2. Model\n",
        "Below we are building/training our VAE model. Note that Vanilla-VAE is simple an IWAE with Monte-Carlo sample size of $1$. In our code the variable **mc_samples** is responsible for the number of Monte-Carlo samples we need, this helps us with the analysis needed when comparing Vanilla-VAE ($\\mathrm{mc\\_sample}=1$) with IWAE ($\\mathrm{mc\\_sample}=5$). We also indicated our method of increasing feature map size by setting the variable **upsampling_type** to either $1, 2$ or $3$ representing\n",
        "\n",
        "\n",
        "*   Deconvolution (transposed convolution) with paddings and strides\n",
        "*   Nearest-Neighbor Upsampling followed by regular convolution\n",
        "*   Bilinear Upsampling followed by regular convolution\n",
        "\n",
        "respectively. The change in the value of **upsampling_type** helps us analyze the different schemes of increasing feature map size.  \n"
      ]
    },
    {
      "metadata": {
        "id": "Za3fdRR26HMh",
        "colab_type": "code",
        "colab": {
          "base_uri": "https://localhost:8080/",
          "height": 8044
        },
        "outputId": "e7de3e9a-28f2-4e3d-f168-46179e3d3d52"
      },
      "cell_type": "code",
      "source": [
        "\n",
        "\n",
        "mc_samples = 1\n",
        "batch_size = 128\n",
        "original_dim = 12288\n",
        "latent_dim = 100\n",
        "epochs = 200\n",
        "epsilon_std = 1.0\n",
        "\n",
        "#Can be either:\n",
        "#1 -> Deconv\n",
        "#2 -> NN\n",
        "#3 -> Bilinear\n",
        "upsampling_type=1\n",
        "\n",
        "def nll(y_true, y_pred):\n",
        "    \"\"\" Bernoulli negative log likelihood. \"\"\"\n",
        "\n",
        "    # keras.losses.binary_crossentropy gives the mean\n",
        "    # over the last axis. We require the sum.\n",
        "    return K.sum(K.binary_crossentropy(y_true, y_pred), axis=-1)\n",
        "\n",
        "\n",
        "class KLDivergenceLayer(Layer):\n",
        "\n",
        "    def __init__(self, *args, **kwargs):\n",
        "        self.is_placeholder = True\n",
        "        super(KLDivergenceLayer, self).__init__(*args, **kwargs)\n",
        "\n",
        "    def call(self, inputs):\n",
        "\n",
        "        mu, log_var = inputs\n",
        "\n",
        "        kl_batch = - .5 * K.sum(1 + log_var -\n",
        "                                K.square(mu) -\n",
        "                                K.exp(log_var), axis=-1)\n",
        "\n",
        "        self.add_loss(K.mean(kl_batch), inputs=inputs)\n",
        "\n",
        "        return inputs\n",
        "\n",
        "x = Input(shape=(original_dim,))\n",
        "\n",
        "#Encoder in Action\n",
        "\n",
        "tenc1=Reshape((64,64,3), input_shape=(original_dim,))\n",
        "\n",
        "tenc2=Conv2D(128, (5, 5), padding='same')\n",
        "tenc3=MaxPooling2D(pool_size=(8, 8)) #64->8\n",
        "tenc4=Activation('relu')\n",
        "\n",
        "tenc5=Conv2D(256, (5,5) ,padding='same' )\n",
        "tenc6=MaxPooling2D(pool_size=(8, 8)) #64->8\n",
        "tenc7=Activation('relu')\n",
        "\n",
        "tenc8=Reshape((256*1*1,), input_shape=(1,1,256))\n",
        "tenc12=Dense(1024, activation='relu')\n",
        "\n",
        "tenc_1=tenc1(x)\n",
        "tenc_2=tenc2(tenc_1)\n",
        "tenc_3=tenc3(tenc_2)\n",
        "tenc_4=tenc4(tenc_3)\n",
        "tenc_5=tenc5(tenc_4)\n",
        "tenc_6=tenc6(tenc_5)\n",
        "tenc_7=tenc7(tenc_6)\n",
        "tenc_8=tenc8(tenc_7)\n",
        "tenc_9=tenc12(tenc_8)\n",
        "\n",
        "z_mu = Dense(latent_dim)(tenc_9)\n",
        "z_log_var = Dense(latent_dim)(tenc_9)\n",
        "\n",
        "z_mu, z_log_var = KLDivergenceLayer()([z_mu, z_log_var])\n",
        "z_sigma = Lambda(lambda t: K.exp(.5*t))(z_log_var)\n",
        "\n",
        "eps = Input(tensor=K.random_normal(stddev=epsilon_std,\n",
        "                                   shape=(K.shape(x)[0],\n",
        "                                          mc_samples,\n",
        "                                          latent_dim)))\n",
        "z_eps = Multiply()([z_sigma, eps])\n",
        "z = Add()([z_mu, z_eps])\n",
        "if upsampling_type==1:\n",
        "  decoder = Sequential([\n",
        "      Dense(16*16*256, input_dim=latent_dim, activation='relu'),\n",
        "      Reshape((-1,16,256)),\n",
        "      BatchNormalization(),\n",
        "      Conv2DTranspose(128,(5,5),strides=(2, 2), padding='same'),\n",
        "      Activation('relu'),\n",
        "      Conv2DTranspose(3,(5,5),strides=(2, 2), padding='same'),\n",
        "      Activation('sigmoid'),\n",
        "      Reshape((-1,original_dim))\n",
        "  ])\n",
        "if upsampling_type==2:\n",
        "    decoder = Sequential([\n",
        "      Dense(16*16*256, input_dim=latent_dim, activation='relu'),\n",
        "      Reshape((-1,16,256)),\n",
        "      BatchNormalization(),\n",
        "      Lambda(UpSample_NN, output_shape=(32,32,256)),\n",
        "      Conv2D(128, (5, 5), padding='same'),\n",
        "      Activation('relu'),\n",
        "      Lambda(UpSample_NN, output_shape=(64,64,128)),\n",
        "      Conv2D(3, (5, 5), padding='same'),\n",
        "      Activation('sigmoid'),\n",
        "      Reshape((-1,original_dim))\n",
        "  ])\n",
        "if upsampling_type==3:\n",
        "      decoder = Sequential([\n",
        "      Dense(16*16*256, input_dim=latent_dim, activation='relu'),\n",
        "      Reshape((-1,16,256)),\n",
        "      BatchNormalization(),\n",
        "      Lambda(UpSample_BiLinear, output_shape=(32,32,256)),\n",
        "      Conv2D(128, (5, 5), padding='same'),\n",
        "      Activation('relu'),\n",
        "      Lambda(UpSample_BiLinear, output_shape=(64,64,128)),\n",
        "      Conv2D(3, (5, 5), padding='same'),\n",
        "      Activation('sigmoid'),\n",
        "      Reshape((-1,original_dim))\n",
        "  ])  \n",
        "decoder.summary()\n",
        "print('********************','Decoder Summary is over Now','********************')\n",
        "x_pred = decoder(z)\n",
        "vae = Model(inputs=[x, eps], outputs=x_pred)\n",
        "adam=optimizers.Adam(lr=0.002, beta_1=0.5, beta_2=0.999, epsilon=None, decay=0.0, amsgrad=True)\n",
        "vae.compile(optimizer=adam, loss=nll)\n",
        "vae.summary()\n",
        "\n",
        "history_1=vae.fit(\n",
        "    x_train_color,\n",
        "    np.expand_dims(x_train_color, axis=1),\n",
        "    shuffle=True,\n",
        "    epochs=epochs,\n",
        "    batch_size=batch_size,\n",
        "    validation_data=(\n",
        "        x_test_color,\n",
        "        np.expand_dims(x_test_color, axis=1)\n",
        "    )\n",
        ")\n"
      ],
      "execution_count": 0,
      "outputs": [
        {
          "output_type": "stream",
          "text": [
            "_________________________________________________________________\n",
            "Layer (type)                 Output Shape              Param #   \n",
            "=================================================================\n",
            "dense_4 (Dense)              (None, 65536)             6619136   \n",
            "_________________________________________________________________\n",
            "reshape_3 (Reshape)          (None, 16, 16, 256)       0         \n",
            "_________________________________________________________________\n",
            "batch_normalization_1 (Batch (None, 16, 16, 256)       1024      \n",
            "_________________________________________________________________\n",
            "conv2d_transpose_1 (Conv2DTr (None, 32, 32, 128)       819328    \n",
            "_________________________________________________________________\n",
            "activation_3 (Activation)    (None, 32, 32, 128)       0         \n",
            "_________________________________________________________________\n",
            "conv2d_transpose_2 (Conv2DTr (None, 64, 64, 3)         9603      \n",
            "_________________________________________________________________\n",
            "activation_4 (Activation)    (None, 64, 64, 3)         0         \n",
            "_________________________________________________________________\n",
            "reshape_4 (Reshape)          (None, 1, 12288)          0         \n",
            "=================================================================\n",
            "Total params: 7,449,091\n",
            "Trainable params: 7,448,579\n",
            "Non-trainable params: 512\n",
            "_________________________________________________________________\n",
            "******************** Decoder Summary is over Now ********************\n",
            "__________________________________________________________________________________________________\n",
            "Layer (type)                    Output Shape         Param #     Connected to                     \n",
            "==================================================================================================\n",
            "input_1 (InputLayer)            (None, 12288)        0                                            \n",
            "__________________________________________________________________________________________________\n",
            "reshape_1 (Reshape)             (None, 64, 64, 3)    0           input_1[0][0]                    \n",
            "__________________________________________________________________________________________________\n",
            "conv2d_1 (Conv2D)               (None, 64, 64, 128)  9728        reshape_1[0][0]                  \n",
            "__________________________________________________________________________________________________\n",
            "max_pooling2d_1 (MaxPooling2D)  (None, 8, 8, 128)    0           conv2d_1[0][0]                   \n",
            "__________________________________________________________________________________________________\n",
            "activation_1 (Activation)       (None, 8, 8, 128)    0           max_pooling2d_1[0][0]            \n",
            "__________________________________________________________________________________________________\n",
            "conv2d_2 (Conv2D)               (None, 8, 8, 256)    819456      activation_1[0][0]               \n",
            "__________________________________________________________________________________________________\n",
            "max_pooling2d_2 (MaxPooling2D)  (None, 1, 1, 256)    0           conv2d_2[0][0]                   \n",
            "__________________________________________________________________________________________________\n",
            "activation_2 (Activation)       (None, 1, 1, 256)    0           max_pooling2d_2[0][0]            \n",
            "__________________________________________________________________________________________________\n",
            "reshape_2 (Reshape)             (None, 256)          0           activation_2[0][0]               \n",
            "__________________________________________________________________________________________________\n",
            "dense_1 (Dense)                 (None, 1024)         263168      reshape_2[0][0]                  \n",
            "__________________________________________________________________________________________________\n",
            "dense_2 (Dense)                 (None, 100)          102500      dense_1[0][0]                    \n",
            "__________________________________________________________________________________________________\n",
            "dense_3 (Dense)                 (None, 100)          102500      dense_1[0][0]                    \n",
            "__________________________________________________________________________________________________\n",
            "kl_divergence_layer_1 (KLDiverg [(None, 100), (None, 0           dense_2[0][0]                    \n",
            "                                                                 dense_3[0][0]                    \n",
            "__________________________________________________________________________________________________\n",
            "lambda_1 (Lambda)               (None, 100)          0           kl_divergence_layer_1[0][1]      \n",
            "__________________________________________________________________________________________________\n",
            "input_2 (InputLayer)            (None, 1, 100)       0                                            \n",
            "__________________________________________________________________________________________________\n",
            "multiply_1 (Multiply)           (None, 1, 100)       0           lambda_1[0][0]                   \n",
            "                                                                 input_2[0][0]                    \n",
            "__________________________________________________________________________________________________\n",
            "add_1 (Add)                     (None, 1, 100)       0           kl_divergence_layer_1[0][0]      \n",
            "                                                                 multiply_1[0][0]                 \n",
            "__________________________________________________________________________________________________\n",
            "sequential_1 (Sequential)       (None, 1, 12288)     7449091     add_1[0][0]                      \n",
            "==================================================================================================\n",
            "Total params: 8,746,443\n",
            "Trainable params: 8,745,931\n",
            "Non-trainable params: 512\n",
            "__________________________________________________________________________________________________\n",
            "Train on 10000 samples, validate on 1000 samples\n",
            "Epoch 1/200\n",
            " 1792/10000 [====>.........................] - ETA: 24s - loss: 8377.6468"
          ],
          "name": "stdout"
        },
        {
          "output_type": "stream",
          "text": [
            "10000/10000 [==============================] - 19s 2ms/step - loss: 7702.1572 - val_loss: 7413.2550\n",
            "Epoch 2/200\n",
            "10000/10000 [==============================] - 17s 2ms/step - loss: 7145.6015 - val_loss: 8223.4896\n",
            "Epoch 3/200\n",
            "10000/10000 [==============================] - 17s 2ms/step - loss: 6977.2426 - val_loss: 7071.5813\n",
            "Epoch 4/200\n",
            "10000/10000 [==============================] - 17s 2ms/step - loss: 6879.3880 - val_loss: 7252.0772\n",
            "Epoch 5/200\n",
            " 5376/10000 [===============>..............] - ETA: 7s - loss: 6821.8682"
          ],
          "name": "stdout"
        },
        {
          "output_type": "stream",
          "text": [
            "10000/10000 [==============================] - 17s 2ms/step - loss: 6803.4017 - val_loss: 6994.4455\n",
            "Epoch 6/200\n",
            "10000/10000 [==============================] - 17s 2ms/step - loss: 6755.8250 - val_loss: 7081.7747\n",
            "Epoch 7/200\n",
            "10000/10000 [==============================] - 17s 2ms/step - loss: 6722.9405 - val_loss: 6768.4812\n",
            "Epoch 8/200\n",
            "10000/10000 [==============================] - 17s 2ms/step - loss: 6682.5518 - val_loss: 6775.6344\n",
            "Epoch 9/200\n",
            " 5888/10000 [================>.............] - ETA: 6s - loss: 6639.0565"
          ],
          "name": "stdout"
        },
        {
          "output_type": "stream",
          "text": [
            "10000/10000 [==============================] - 17s 2ms/step - loss: 6647.2782 - val_loss: 6722.3100\n",
            "Epoch 10/200\n",
            "10000/10000 [==============================] - 17s 2ms/step - loss: 6623.3945 - val_loss: 6682.4614\n",
            "Epoch 11/200\n",
            "10000/10000 [==============================] - 17s 2ms/step - loss: 6605.8983 - val_loss: 6891.0416\n",
            "Epoch 12/200\n",
            "10000/10000 [==============================] - 17s 2ms/step - loss: 6576.5013 - val_loss: 6632.9980\n",
            "Epoch 13/200\n",
            " 5760/10000 [================>.............] - ETA: 6s - loss: 6575.1916"
          ],
          "name": "stdout"
        },
        {
          "output_type": "stream",
          "text": [
            "10000/10000 [==============================] - 17s 2ms/step - loss: 6568.9415 - val_loss: 6989.2913\n",
            "Epoch 14/200\n",
            "10000/10000 [==============================] - 17s 2ms/step - loss: 6556.8858 - val_loss: 6639.7159\n",
            "Epoch 15/200\n",
            "10000/10000 [==============================] - 17s 2ms/step - loss: 6546.4035 - val_loss: 6774.0249\n",
            "Epoch 16/200\n",
            "10000/10000 [==============================] - 17s 2ms/step - loss: 6535.7389 - val_loss: 6619.4755\n",
            "Epoch 17/200\n",
            " 5760/10000 [================>.............] - ETA: 6s - loss: 6521.0799"
          ],
          "name": "stdout"
        },
        {
          "output_type": "stream",
          "text": [
            "10000/10000 [==============================] - 17s 2ms/step - loss: 6519.5468 - val_loss: 6765.6807\n",
            "Epoch 18/200\n",
            "10000/10000 [==============================] - 17s 2ms/step - loss: 6513.0538 - val_loss: 7582.1179\n",
            "Epoch 19/200\n",
            "10000/10000 [==============================] - 17s 2ms/step - loss: 6565.9770 - val_loss: 6829.4184\n",
            "Epoch 20/200\n",
            "10000/10000 [==============================] - 17s 2ms/step - loss: 6497.4013 - val_loss: 6849.1303\n",
            "Epoch 21/200\n",
            " 5504/10000 [===============>..............] - ETA: 7s - loss: 6494.3851"
          ],
          "name": "stdout"
        },
        {
          "output_type": "stream",
          "text": [
            "10000/10000 [==============================] - 17s 2ms/step - loss: 6496.6895 - val_loss: 6571.3252\n",
            "Epoch 22/200\n",
            "10000/10000 [==============================] - 17s 2ms/step - loss: 6474.1101 - val_loss: 6936.8627\n",
            "Epoch 23/200\n",
            "10000/10000 [==============================] - 17s 2ms/step - loss: 6474.7396 - val_loss: 6767.7531\n",
            "Epoch 24/200\n",
            "10000/10000 [==============================] - 17s 2ms/step - loss: 6464.2549 - val_loss: 6683.3276\n",
            "Epoch 25/200\n",
            " 6016/10000 [=================>............] - ETA: 6s - loss: 6457.6609"
          ],
          "name": "stdout"
        },
        {
          "output_type": "stream",
          "text": [
            "10000/10000 [==============================] - 17s 2ms/step - loss: 6458.2216 - val_loss: 6606.0881\n",
            "Epoch 26/200\n",
            "10000/10000 [==============================] - 17s 2ms/step - loss: 6445.7995 - val_loss: 7344.9573\n",
            "Epoch 27/200\n",
            "10000/10000 [==============================] - 17s 2ms/step - loss: 6449.2534 - val_loss: 6703.9153\n",
            "Epoch 28/200\n",
            "10000/10000 [==============================] - 17s 2ms/step - loss: 6432.8849 - val_loss: 6587.8909\n",
            "Epoch 29/200\n",
            " 5760/10000 [================>.............] - ETA: 6s - loss: 6425.5163"
          ],
          "name": "stdout"
        },
        {
          "output_type": "stream",
          "text": [
            "10000/10000 [==============================] - 17s 2ms/step - loss: 6424.1196 - val_loss: 7101.9680\n",
            "Epoch 30/200\n",
            "10000/10000 [==============================] - 17s 2ms/step - loss: 6429.1814 - val_loss: 6859.2236\n",
            "Epoch 31/200\n",
            "10000/10000 [==============================] - 17s 2ms/step - loss: 6422.7227 - val_loss: 6591.9102\n",
            "Epoch 32/200\n",
            "10000/10000 [==============================] - 17s 2ms/step - loss: 6412.3424 - val_loss: 6617.3175\n",
            "Epoch 33/200\n",
            " 6016/10000 [=================>............] - ETA: 6s - loss: 6410.5883"
          ],
          "name": "stdout"
        },
        {
          "output_type": "stream",
          "text": [
            "10000/10000 [==============================] - 17s 2ms/step - loss: 6408.4148 - val_loss: 6670.2760\n",
            "Epoch 34/200\n",
            "10000/10000 [==============================] - 17s 2ms/step - loss: 6407.9641 - val_loss: 6536.9543\n",
            "Epoch 35/200\n",
            "10000/10000 [==============================] - 17s 2ms/step - loss: 6394.2806 - val_loss: 6684.7018\n",
            "Epoch 36/200\n",
            "10000/10000 [==============================] - 17s 2ms/step - loss: 6391.5995 - val_loss: 6569.1327\n",
            "Epoch 37/200\n",
            " 5760/10000 [================>.............] - ETA: 6s - loss: 6402.9976"
          ],
          "name": "stdout"
        },
        {
          "output_type": "stream",
          "text": [
            "10000/10000 [==============================] - 17s 2ms/step - loss: 6397.0767 - val_loss: 6645.8272\n",
            "Epoch 38/200\n",
            "10000/10000 [==============================] - 17s 2ms/step - loss: 6384.2519 - val_loss: 7904.1732\n",
            "Epoch 39/200\n",
            "10000/10000 [==============================] - 17s 2ms/step - loss: 6473.3081 - val_loss: 7349.5864\n",
            "Epoch 40/200\n",
            "10000/10000 [==============================] - 17s 2ms/step - loss: 6390.2003 - val_loss: 6513.9089\n",
            "Epoch 41/200\n",
            " 5248/10000 [==============>...............] - ETA: 7s - loss: 6361.1599"
          ],
          "name": "stdout"
        },
        {
          "output_type": "stream",
          "text": [
            "10000/10000 [==============================] - 17s 2ms/step - loss: 6371.9145 - val_loss: 6739.2421\n",
            "Epoch 42/200\n",
            "10000/10000 [==============================] - 17s 2ms/step - loss: 6367.8530 - val_loss: 6639.8099\n",
            "Epoch 43/200\n",
            "10000/10000 [==============================] - 17s 2ms/step - loss: 6372.0193 - val_loss: 6809.9912\n",
            "Epoch 44/200\n",
            "10000/10000 [==============================] - 17s 2ms/step - loss: 6368.1238 - val_loss: 6699.3898\n",
            "Epoch 45/200\n",
            " 5120/10000 [==============>...............] - ETA: 7s - loss: 6361.3066"
          ],
          "name": "stdout"
        },
        {
          "output_type": "stream",
          "text": [
            "10000/10000 [==============================] - 17s 2ms/step - loss: 6359.9581 - val_loss: 6772.6269\n",
            "Epoch 46/200\n",
            "10000/10000 [==============================] - 17s 2ms/step - loss: 6358.0536 - val_loss: 7492.1268\n",
            "Epoch 47/200\n",
            "10000/10000 [==============================] - 17s 2ms/step - loss: 6361.1464 - val_loss: 7466.8127\n",
            "Epoch 48/200\n",
            "10000/10000 [==============================] - 17s 2ms/step - loss: 6352.0124 - val_loss: 7118.7778\n",
            "Epoch 49/200\n",
            " 4992/10000 [=============>................] - ETA: 8s - loss: 6351.2739"
          ],
          "name": "stdout"
        },
        {
          "output_type": "stream",
          "text": [
            "10000/10000 [==============================] - 17s 2ms/step - loss: 6351.6940 - val_loss: 6550.1005\n",
            "Epoch 50/200\n",
            "10000/10000 [==============================] - 17s 2ms/step - loss: 6335.5841 - val_loss: 6608.3940\n",
            "Epoch 51/200\n",
            "10000/10000 [==============================] - 17s 2ms/step - loss: 6340.3263 - val_loss: 6522.4924\n",
            "Epoch 52/200\n",
            "10000/10000 [==============================] - 17s 2ms/step - loss: 6328.1861 - val_loss: 6767.4552\n",
            "Epoch 53/200\n",
            " 5248/10000 [==============>...............] - ETA: 7s - loss: 6334.9222"
          ],
          "name": "stdout"
        },
        {
          "output_type": "stream",
          "text": [
            "10000/10000 [==============================] - 17s 2ms/step - loss: 6340.5865 - val_loss: 6566.0195\n",
            "Epoch 54/200\n",
            "10000/10000 [==============================] - 17s 2ms/step - loss: 6321.4483 - val_loss: 6567.9475\n",
            "Epoch 55/200\n",
            "10000/10000 [==============================] - 17s 2ms/step - loss: 6325.8311 - val_loss: 6678.5681\n",
            "Epoch 56/200\n",
            "10000/10000 [==============================] - 17s 2ms/step - loss: 6322.9532 - val_loss: 6532.1431\n",
            "Epoch 57/200\n",
            " 4096/10000 [===========>..................] - ETA: 9s - loss: 6320.9161"
          ],
          "name": "stdout"
        },
        {
          "output_type": "stream",
          "text": [
            "10000/10000 [==============================] - 17s 2ms/step - loss: 6315.1079 - val_loss: 7316.6113\n",
            "Epoch 58/200\n",
            "10000/10000 [==============================] - 17s 2ms/step - loss: 6321.0390 - val_loss: 6591.3793\n",
            "Epoch 59/200\n",
            "10000/10000 [==============================] - 17s 2ms/step - loss: 6312.9124 - val_loss: 6762.0890\n",
            "Epoch 60/200\n",
            "10000/10000 [==============================] - 17s 2ms/step - loss: 6311.7659 - val_loss: 6539.6854\n",
            "Epoch 61/200\n",
            " 4864/10000 [=============>................] - ETA: 8s - loss: 6320.2958"
          ],
          "name": "stdout"
        },
        {
          "output_type": "stream",
          "text": [
            "10000/10000 [==============================] - 17s 2ms/step - loss: 6309.1521 - val_loss: 6722.1859\n",
            "Epoch 62/200\n",
            "10000/10000 [==============================] - 17s 2ms/step - loss: 6307.0731 - val_loss: 6722.2235\n",
            "Epoch 63/200\n",
            "10000/10000 [==============================] - 17s 2ms/step - loss: 6299.1191 - val_loss: 6714.8261\n",
            "Epoch 64/200\n",
            "10000/10000 [==============================] - 17s 2ms/step - loss: 6305.5247 - val_loss: 6693.0929\n",
            "Epoch 65/200\n",
            " 5504/10000 [===============>..............] - ETA: 7s - loss: 6291.3136"
          ],
          "name": "stdout"
        },
        {
          "output_type": "stream",
          "text": [
            "10000/10000 [==============================] - 17s 2ms/step - loss: 6296.6939 - val_loss: 6781.2178\n",
            "Epoch 66/200\n",
            "10000/10000 [==============================] - 17s 2ms/step - loss: 6299.3495 - val_loss: 6869.3124\n",
            "Epoch 67/200\n",
            "10000/10000 [==============================] - 17s 2ms/step - loss: 6298.3359 - val_loss: 6709.5702\n",
            "Epoch 68/200\n",
            "10000/10000 [==============================] - 17s 2ms/step - loss: 6291.0734 - val_loss: 6986.1493\n",
            "Epoch 69/200\n",
            " 5376/10000 [===============>..............] - ETA: 7s - loss: 6285.4395"
          ],
          "name": "stdout"
        },
        {
          "output_type": "stream",
          "text": [
            "10000/10000 [==============================] - 17s 2ms/step - loss: 6289.4565 - val_loss: 6750.5934\n",
            "Epoch 70/200\n",
            "10000/10000 [==============================] - 17s 2ms/step - loss: 6283.5200 - val_loss: 6596.7918\n",
            "Epoch 71/200\n",
            "10000/10000 [==============================] - 17s 2ms/step - loss: 6285.1470 - val_loss: 6964.0931\n",
            "Epoch 72/200\n",
            "10000/10000 [==============================] - 17s 2ms/step - loss: 6278.4226 - val_loss: 6537.6620\n",
            "Epoch 73/200\n",
            " 5376/10000 [===============>..............] - ETA: 7s - loss: 6281.8625"
          ],
          "name": "stdout"
        },
        {
          "output_type": "stream",
          "text": [
            "10000/10000 [==============================] - 17s 2ms/step - loss: 6280.5932 - val_loss: 6587.9958\n",
            "Epoch 74/200\n",
            "10000/10000 [==============================] - 17s 2ms/step - loss: 6276.8312 - val_loss: 6595.8442\n",
            "Epoch 75/200\n",
            "10000/10000 [==============================] - 17s 2ms/step - loss: 6272.9475 - val_loss: 7538.9946\n",
            "Epoch 76/200\n",
            "10000/10000 [==============================] - 17s 2ms/step - loss: 6290.6615 - val_loss: 6876.7588\n",
            "Epoch 77/200\n",
            " 4992/10000 [=============>................] - ETA: 8s - loss: 6306.4217"
          ],
          "name": "stdout"
        },
        {
          "output_type": "stream",
          "text": [
            "10000/10000 [==============================] - 17s 2ms/step - loss: 6283.2311 - val_loss: 6737.3202\n",
            "Epoch 78/200\n",
            "10000/10000 [==============================] - 17s 2ms/step - loss: 6273.0029 - val_loss: 6693.2756\n",
            "Epoch 79/200\n",
            "10000/10000 [==============================] - 17s 2ms/step - loss: 6263.5408 - val_loss: 6678.7145\n",
            "Epoch 80/200\n",
            "10000/10000 [==============================] - 17s 2ms/step - loss: 6270.1874 - val_loss: 6579.1998\n",
            "Epoch 81/200\n",
            " 5248/10000 [==============>...............] - ETA: 7s - loss: 6250.2581"
          ],
          "name": "stdout"
        },
        {
          "output_type": "stream",
          "text": [
            "10000/10000 [==============================] - 17s 2ms/step - loss: 6265.0718 - val_loss: 6716.8843\n",
            "Epoch 82/200\n",
            "10000/10000 [==============================] - 17s 2ms/step - loss: 6264.3459 - val_loss: 6812.9742\n",
            "Epoch 83/200\n",
            "10000/10000 [==============================] - 17s 2ms/step - loss: 6263.1157 - val_loss: 6545.1692\n",
            "Epoch 84/200\n",
            "10000/10000 [==============================] - 17s 2ms/step - loss: 6256.6398 - val_loss: 6765.0964\n",
            "Epoch 85/200\n",
            " 5760/10000 [================>.............] - ETA: 6s - loss: 6255.7758"
          ],
          "name": "stdout"
        },
        {
          "output_type": "stream",
          "text": [
            "10000/10000 [==============================] - 17s 2ms/step - loss: 6258.3015 - val_loss: 6571.2970\n",
            "Epoch 86/200\n",
            "10000/10000 [==============================] - 17s 2ms/step - loss: 6258.1945 - val_loss: 7058.8214\n",
            "Epoch 87/200\n",
            "10000/10000 [==============================] - 17s 2ms/step - loss: 6259.2101 - val_loss: 6990.7996\n",
            "Epoch 88/200\n",
            "10000/10000 [==============================] - 17s 2ms/step - loss: 6258.8475 - val_loss: 6588.0748\n",
            "Epoch 89/200\n",
            " 5632/10000 [===============>..............] - ETA: 7s - loss: 6248.6915"
          ],
          "name": "stdout"
        },
        {
          "output_type": "stream",
          "text": [
            "10000/10000 [==============================] - 17s 2ms/step - loss: 6248.5437 - val_loss: 7055.2168\n",
            "Epoch 90/200\n",
            "10000/10000 [==============================] - 17s 2ms/step - loss: 6255.0780 - val_loss: 6679.2797\n",
            "Epoch 91/200\n",
            "10000/10000 [==============================] - 17s 2ms/step - loss: 6255.7917 - val_loss: 6618.8474\n",
            "Epoch 92/200\n",
            "10000/10000 [==============================] - 17s 2ms/step - loss: 6247.5420 - val_loss: 6697.0821\n",
            "Epoch 93/200\n",
            " 6016/10000 [=================>............] - ETA: 6s - loss: 6245.7715"
          ],
          "name": "stdout"
        },
        {
          "output_type": "stream",
          "text": [
            "10000/10000 [==============================] - 17s 2ms/step - loss: 6245.1590 - val_loss: 6786.7642\n",
            "Epoch 94/200\n",
            "10000/10000 [==============================] - 17s 2ms/step - loss: 6250.6100 - val_loss: 6646.6659\n",
            "Epoch 95/200\n",
            "10000/10000 [==============================] - 17s 2ms/step - loss: 6244.6148 - val_loss: 6643.1637\n",
            "Epoch 96/200\n",
            "10000/10000 [==============================] - 17s 2ms/step - loss: 6244.1757 - val_loss: 6626.6090\n",
            "Epoch 97/200\n",
            " 5504/10000 [===============>..............] - ETA: 7s - loss: 6238.3578"
          ],
          "name": "stdout"
        },
        {
          "output_type": "stream",
          "text": [
            "10000/10000 [==============================] - 17s 2ms/step - loss: 6243.6203 - val_loss: 6584.1609\n",
            "Epoch 98/200\n",
            "10000/10000 [==============================] - 17s 2ms/step - loss: 6240.1980 - val_loss: 6632.7413\n",
            "Epoch 99/200\n",
            "10000/10000 [==============================] - 17s 2ms/step - loss: 6241.7935 - val_loss: 6670.6275\n",
            "Epoch 100/200\n",
            "10000/10000 [==============================] - 17s 2ms/step - loss: 6235.1727 - val_loss: 6661.7715\n",
            "Epoch 101/200\n",
            " 5248/10000 [==============>...............] - ETA: 7s - loss: 6229.5022"
          ],
          "name": "stdout"
        },
        {
          "output_type": "stream",
          "text": [
            "10000/10000 [==============================] - 17s 2ms/step - loss: 6239.9489 - val_loss: 6582.9577\n",
            "Epoch 102/200\n",
            "10000/10000 [==============================] - 17s 2ms/step - loss: 6235.6311 - val_loss: 6865.1122\n",
            "Epoch 103/200\n",
            "10000/10000 [==============================] - 17s 2ms/step - loss: 6235.4722 - val_loss: 6682.4363\n",
            "Epoch 104/200\n",
            "10000/10000 [==============================] - 17s 2ms/step - loss: 6240.1663 - val_loss: 6812.5243\n",
            "Epoch 105/200\n",
            " 5504/10000 [===============>..............] - ETA: 7s - loss: 6232.0007"
          ],
          "name": "stdout"
        },
        {
          "output_type": "stream",
          "text": [
            "10000/10000 [==============================] - 17s 2ms/step - loss: 6235.8542 - val_loss: 6787.3653\n",
            "Epoch 106/200\n",
            "10000/10000 [==============================] - 17s 2ms/step - loss: 6236.2305 - val_loss: 6577.7253\n",
            "Epoch 107/200\n",
            "10000/10000 [==============================] - 17s 2ms/step - loss: 6233.2650 - val_loss: 6594.0910\n",
            "Epoch 108/200\n",
            "10000/10000 [==============================] - 17s 2ms/step - loss: 6229.1293 - val_loss: 6616.2381\n",
            "Epoch 109/200\n",
            " 5248/10000 [==============>...............] - ETA: 7s - loss: 6220.7475"
          ],
          "name": "stdout"
        },
        {
          "output_type": "stream",
          "text": [
            "10000/10000 [==============================] - 17s 2ms/step - loss: 6230.6165 - val_loss: 6543.2571\n",
            "Epoch 110/200\n",
            "10000/10000 [==============================] - 17s 2ms/step - loss: 6228.1829 - val_loss: 6560.5791\n",
            "Epoch 111/200\n",
            "10000/10000 [==============================] - 17s 2ms/step - loss: 6224.9949 - val_loss: 6665.3167\n",
            "Epoch 112/200\n",
            "10000/10000 [==============================] - 17s 2ms/step - loss: 6225.0612 - val_loss: 6566.6691\n",
            "Epoch 113/200\n",
            " 5120/10000 [==============>...............] - ETA: 7s - loss: 6238.4474"
          ],
          "name": "stdout"
        },
        {
          "output_type": "stream",
          "text": [
            "10000/10000 [==============================] - 17s 2ms/step - loss: 6227.0781 - val_loss: 7316.7877\n",
            "Epoch 114/200\n",
            "10000/10000 [==============================] - 17s 2ms/step - loss: 6232.3602 - val_loss: 6607.5952\n",
            "Epoch 115/200\n",
            "10000/10000 [==============================] - 17s 2ms/step - loss: 6221.6589 - val_loss: 6705.2679\n",
            "Epoch 116/200\n",
            "10000/10000 [==============================] - 17s 2ms/step - loss: 6223.8652 - val_loss: 6538.8247\n",
            "Epoch 117/200\n",
            " 5248/10000 [==============>...............] - ETA: 7s - loss: 6216.8143"
          ],
          "name": "stdout"
        },
        {
          "output_type": "stream",
          "text": [
            "10000/10000 [==============================] - 17s 2ms/step - loss: 6221.9606 - val_loss: 6568.4812\n",
            "Epoch 118/200\n",
            "10000/10000 [==============================] - 17s 2ms/step - loss: 6217.0951 - val_loss: 6993.6113\n",
            "Epoch 119/200\n",
            "10000/10000 [==============================] - 17s 2ms/step - loss: 6219.6855 - val_loss: 6631.9510\n",
            "Epoch 120/200\n",
            "10000/10000 [==============================] - 17s 2ms/step - loss: 6215.4060 - val_loss: 6539.5475\n",
            "Epoch 121/200\n",
            " 5376/10000 [===============>..............] - ETA: 7s - loss: 6233.3051"
          ],
          "name": "stdout"
        },
        {
          "output_type": "stream",
          "text": [
            "10000/10000 [==============================] - 17s 2ms/step - loss: 6223.3919 - val_loss: 6581.8276\n",
            "Epoch 122/200\n",
            "10000/10000 [==============================] - 17s 2ms/step - loss: 6215.3229 - val_loss: 6602.2733\n",
            "Epoch 123/200\n",
            "10000/10000 [==============================] - 17s 2ms/step - loss: 6214.9165 - val_loss: 6602.7504\n",
            "Epoch 124/200\n",
            "10000/10000 [==============================] - 17s 2ms/step - loss: 6218.8313 - val_loss: 7082.0628\n",
            "Epoch 125/200\n",
            " 4864/10000 [=============>................] - ETA: 8s - loss: 6201.2104"
          ],
          "name": "stdout"
        },
        {
          "output_type": "stream",
          "text": [
            "10000/10000 [==============================] - 17s 2ms/step - loss: 6214.4299 - val_loss: 6577.7671\n",
            "Epoch 126/200\n",
            "10000/10000 [==============================] - 17s 2ms/step - loss: 6217.4399 - val_loss: 6853.6980\n",
            "Epoch 127/200\n",
            "10000/10000 [==============================] - 17s 2ms/step - loss: 6217.7266 - val_loss: 6655.3087\n",
            "Epoch 128/200\n",
            "10000/10000 [==============================] - 17s 2ms/step - loss: 6212.2585 - val_loss: 6565.6156\n",
            "Epoch 129/200\n",
            " 4864/10000 [=============>................] - ETA: 8s - loss: 6223.9700"
          ],
          "name": "stdout"
        },
        {
          "output_type": "stream",
          "text": [
            "10000/10000 [==============================] - 17s 2ms/step - loss: 6217.6211 - val_loss: 6576.9984\n",
            "Epoch 130/200\n",
            "10000/10000 [==============================] - 17s 2ms/step - loss: 6211.7065 - val_loss: 6586.3185\n",
            "Epoch 131/200\n",
            "10000/10000 [==============================] - 17s 2ms/step - loss: 6213.2638 - val_loss: 6672.3582\n",
            "Epoch 132/200\n",
            "10000/10000 [==============================] - 17s 2ms/step - loss: 6214.1198 - val_loss: 6560.6923\n",
            "Epoch 133/200\n",
            " 5504/10000 [===============>..............] - ETA: 7s - loss: 6194.6986"
          ],
          "name": "stdout"
        },
        {
          "output_type": "stream",
          "text": [
            "10000/10000 [==============================] - 17s 2ms/step - loss: 6210.2440 - val_loss: 6725.9897\n",
            "Epoch 134/200\n",
            "10000/10000 [==============================] - 17s 2ms/step - loss: 6210.0949 - val_loss: 6731.2116\n",
            "Epoch 135/200\n",
            "10000/10000 [==============================] - 17s 2ms/step - loss: 6213.5197 - val_loss: 6573.7172\n",
            "Epoch 136/200\n",
            "10000/10000 [==============================] - 17s 2ms/step - loss: 6211.0393 - val_loss: 6602.5889\n",
            "Epoch 137/200\n",
            " 4736/10000 [=============>................] - ETA: 8s - loss: 6213.1209"
          ],
          "name": "stdout"
        },
        {
          "output_type": "stream",
          "text": [
            "10000/10000 [==============================] - 17s 2ms/step - loss: 6207.7127 - val_loss: 6607.2978\n",
            "Epoch 138/200\n",
            "10000/10000 [==============================] - 17s 2ms/step - loss: 6206.6771 - val_loss: 6594.4398\n",
            "Epoch 139/200\n",
            "10000/10000 [==============================] - 17s 2ms/step - loss: 6205.5439 - val_loss: 6593.8513\n",
            "Epoch 140/200\n",
            "10000/10000 [==============================] - 17s 2ms/step - loss: 6208.2096 - val_loss: 6555.3947\n",
            "Epoch 141/200\n",
            " 4224/10000 [===========>..................] - ETA: 9s - loss: 6206.4130"
          ],
          "name": "stdout"
        },
        {
          "output_type": "stream",
          "text": [
            "10000/10000 [==============================] - 17s 2ms/step - loss: 6202.7543 - val_loss: 6623.5900\n",
            "Epoch 142/200\n",
            "10000/10000 [==============================] - 17s 2ms/step - loss: 6205.2574 - val_loss: 6552.2264\n",
            "Epoch 143/200\n",
            "10000/10000 [==============================] - 17s 2ms/step - loss: 6202.0506 - val_loss: 6664.3985\n",
            "Epoch 144/200\n",
            "10000/10000 [==============================] - 17s 2ms/step - loss: 6206.3151 - val_loss: 6551.5816\n",
            "Epoch 145/200\n",
            " 4736/10000 [=============>................] - ETA: 8s - loss: 6220.2267"
          ],
          "name": "stdout"
        },
        {
          "output_type": "stream",
          "text": [
            "10000/10000 [==============================] - 17s 2ms/step - loss: 6200.5633 - val_loss: 7088.0548\n",
            "Epoch 146/200\n",
            "10000/10000 [==============================] - 17s 2ms/step - loss: 6205.4030 - val_loss: 6554.1755\n",
            "Epoch 147/200\n",
            "10000/10000 [==============================] - 17s 2ms/step - loss: 6199.0871 - val_loss: 6587.3517\n",
            "Epoch 148/200\n",
            "10000/10000 [==============================] - 17s 2ms/step - loss: 6203.6740 - val_loss: 6634.6002\n",
            "Epoch 149/200\n",
            " 4736/10000 [=============>................] - ETA: 8s - loss: 6196.1821"
          ],
          "name": "stdout"
        },
        {
          "output_type": "stream",
          "text": [
            "10000/10000 [==============================] - 17s 2ms/step - loss: 6205.5163 - val_loss: 6608.8125\n",
            "Epoch 150/200\n",
            "10000/10000 [==============================] - 17s 2ms/step - loss: 6198.4951 - val_loss: 6699.6924\n",
            "Epoch 151/200\n",
            "10000/10000 [==============================] - 17s 2ms/step - loss: 6200.2352 - val_loss: 6581.0034\n",
            "Epoch 152/200\n",
            "10000/10000 [==============================] - 17s 2ms/step - loss: 6201.9105 - val_loss: 6563.2471\n",
            "Epoch 153/200\n",
            " 4352/10000 [============>.................] - ETA: 9s - loss: 6209.5654\b\b\b\b\b\b\b\b\b\b\b\b\b\b\b\b\b\b\b\b\b\b\b\b\b\b\b\b\b\b\b\b\b\b\b\b\b\b\b\b\b\b\b\b\b\b\b\b\b\b\b\b\b\b\b\b\b\b\b\b\b\b\b\b\b\b\b\b\b\b\b\b"
          ],
          "name": "stdout"
        },
        {
          "output_type": "stream",
          "text": [
            "10000/10000 [==============================] - 17s 2ms/step - loss: 6199.5805 - val_loss: 6577.4802\n",
            "Epoch 154/200\n",
            "10000/10000 [==============================] - 17s 2ms/step - loss: 6199.0076 - val_loss: 6547.4918\n",
            "Epoch 155/200\n",
            "10000/10000 [==============================] - 17s 2ms/step - loss: 6194.4913 - val_loss: 6611.1764\n",
            "Epoch 156/200\n",
            "10000/10000 [==============================] - 17s 2ms/step - loss: 6198.7316 - val_loss: 6664.1118\n",
            "Epoch 157/200\n",
            " 4480/10000 [============>.................] - ETA: 8s - loss: 6179.3365"
          ],
          "name": "stdout"
        },
        {
          "output_type": "stream",
          "text": [
            "10000/10000 [==============================] - 17s 2ms/step - loss: 6194.0571 - val_loss: 6566.1498\n",
            "Epoch 158/200\n",
            "10000/10000 [==============================] - 17s 2ms/step - loss: 6198.1909 - val_loss: 6587.1516\n",
            "Epoch 159/200\n",
            "10000/10000 [==============================] - 17s 2ms/step - loss: 6194.7560 - val_loss: 6582.5233\n",
            "Epoch 160/200\n",
            "10000/10000 [==============================] - 17s 2ms/step - loss: 6195.2947 - val_loss: 6544.3981\n",
            "Epoch 161/200\n",
            " 4480/10000 [============>.................] - ETA: 8s - loss: 6210.3687"
          ],
          "name": "stdout"
        },
        {
          "output_type": "stream",
          "text": [
            "10000/10000 [==============================] - 17s 2ms/step - loss: 6196.8346 - val_loss: 6608.5226\n",
            "Epoch 162/200\n",
            "10000/10000 [==============================] - 17s 2ms/step - loss: 6198.2206 - val_loss: 6598.9121\n",
            "Epoch 163/200\n",
            "10000/10000 [==============================] - 17s 2ms/step - loss: 6193.4525 - val_loss: 7038.9945\n",
            "Epoch 164/200\n",
            "10000/10000 [==============================] - 17s 2ms/step - loss: 6199.4621 - val_loss: 6648.5968\n",
            "Epoch 165/200\n",
            " 4352/10000 [============>.................] - ETA: 9s - loss: 6185.9941"
          ],
          "name": "stdout"
        },
        {
          "output_type": "stream",
          "text": [
            "10000/10000 [==============================] - 17s 2ms/step - loss: 6196.6169 - val_loss: 6856.3217\n",
            "Epoch 166/200\n",
            "10000/10000 [==============================] - 17s 2ms/step - loss: 6203.3621 - val_loss: 6574.2311\n",
            "Epoch 167/200\n",
            "10000/10000 [==============================] - 17s 2ms/step - loss: 6194.1276 - val_loss: 7377.5716\n",
            "Epoch 168/200\n",
            "10000/10000 [==============================] - 17s 2ms/step - loss: 6203.7563 - val_loss: 6596.5189\n",
            "Epoch 169/200\n",
            " 4352/10000 [============>.................] - ETA: 9s - loss: 6203.1573"
          ],
          "name": "stdout"
        },
        {
          "output_type": "stream",
          "text": [
            "10000/10000 [==============================] - 17s 2ms/step - loss: 6193.4259 - val_loss: 6832.2229\n",
            "Epoch 170/200\n",
            "10000/10000 [==============================] - 17s 2ms/step - loss: 6200.0133 - val_loss: 6597.2773\n",
            "Epoch 171/200\n",
            "10000/10000 [==============================] - 16s 2ms/step - loss: 6193.8421 - val_loss: 6566.7256\n",
            "Epoch 172/200\n",
            "10000/10000 [==============================] - 17s 2ms/step - loss: 6191.5636 - val_loss: 6602.1906\n",
            "Epoch 173/200\n",
            " 4608/10000 [============>.................] - ETA: 8s - loss: 6217.2373"
          ],
          "name": "stdout"
        },
        {
          "output_type": "stream",
          "text": [
            "10000/10000 [==============================] - 17s 2ms/step - loss: 6190.2995 - val_loss: 6609.3501\n",
            "Epoch 174/200\n",
            "10000/10000 [==============================] - 17s 2ms/step - loss: 6194.2216 - val_loss: 6581.5927\n",
            "Epoch 175/200\n",
            "10000/10000 [==============================] - 17s 2ms/step - loss: 6189.8740 - val_loss: 6588.4693\n",
            "Epoch 176/200\n",
            "10000/10000 [==============================] - 17s 2ms/step - loss: 6192.3025 - val_loss: 6732.2436\n",
            "Epoch 177/200\n",
            " 4608/10000 [============>.................] - ETA: 8s - loss: 6195.9751"
          ],
          "name": "stdout"
        },
        {
          "output_type": "stream",
          "text": [
            "10000/10000 [==============================] - 17s 2ms/step - loss: 6195.2626 - val_loss: 6774.9966\n",
            "Epoch 178/200\n",
            "10000/10000 [==============================] - 17s 2ms/step - loss: 6192.4990 - val_loss: 6693.4553\n",
            "Epoch 179/200\n",
            "10000/10000 [==============================] - 17s 2ms/step - loss: 6189.6825 - val_loss: 6712.7532\n",
            "Epoch 180/200\n",
            "10000/10000 [==============================] - 17s 2ms/step - loss: 6190.9859 - val_loss: 6884.6729\n",
            "Epoch 181/200\n",
            " 4992/10000 [=============>................] - ETA: 7s - loss: 6192.7017"
          ],
          "name": "stdout"
        },
        {
          "output_type": "stream",
          "text": [
            "10000/10000 [==============================] - 17s 2ms/step - loss: 6191.0137 - val_loss: 6613.5691\n",
            "Epoch 182/200\n",
            "10000/10000 [==============================] - 17s 2ms/step - loss: 6186.9445 - val_loss: 6618.3161\n",
            "Epoch 183/200\n",
            "10000/10000 [==============================] - 17s 2ms/step - loss: 6187.7686 - val_loss: 6811.9406\n",
            "Epoch 184/200\n",
            "10000/10000 [==============================] - 17s 2ms/step - loss: 6186.4763 - val_loss: 6615.8960\n",
            "Epoch 185/200\n",
            " 5248/10000 [==============>...............] - ETA: 7s - loss: 6184.2634"
          ],
          "name": "stdout"
        },
        {
          "output_type": "stream",
          "text": [
            "10000/10000 [==============================] - 17s 2ms/step - loss: 6187.7319 - val_loss: 6615.4453\n",
            "Epoch 186/200\n",
            "10000/10000 [==============================] - 17s 2ms/step - loss: 6185.8483 - val_loss: 6703.9770\n",
            "Epoch 187/200\n",
            "10000/10000 [==============================] - 17s 2ms/step - loss: 6186.2350 - val_loss: 6951.4575\n",
            "Epoch 188/200\n",
            "10000/10000 [==============================] - 17s 2ms/step - loss: 6187.7460 - val_loss: 6670.0580\n",
            "Epoch 189/200\n",
            " 4608/10000 [============>.................] - ETA: 8s - loss: 6182.0792"
          ],
          "name": "stdout"
        },
        {
          "output_type": "stream",
          "text": [
            "10000/10000 [==============================] - 17s 2ms/step - loss: 6190.3554 - val_loss: 6630.4217\n",
            "Epoch 190/200\n",
            "10000/10000 [==============================] - 17s 2ms/step - loss: 6185.4776 - val_loss: 6662.8659\n",
            "Epoch 191/200\n",
            "10000/10000 [==============================] - 17s 2ms/step - loss: 6188.0822 - val_loss: 6687.5871\n",
            "Epoch 192/200\n",
            "10000/10000 [==============================] - 17s 2ms/step - loss: 6182.1623 - val_loss: 6566.1198\n",
            "Epoch 193/200\n",
            " 4608/10000 [============>.................] - ETA: 8s - loss: 6195.2390"
          ],
          "name": "stdout"
        },
        {
          "output_type": "stream",
          "text": [
            "10000/10000 [==============================] - 17s 2ms/step - loss: 6180.9548 - val_loss: 6598.6738\n",
            "Epoch 194/200\n",
            "10000/10000 [==============================] - 17s 2ms/step - loss: 6185.2911 - val_loss: 7327.8943\n",
            "Epoch 195/200\n",
            "10000/10000 [==============================] - 17s 2ms/step - loss: 6195.4397 - val_loss: 6729.6176\n",
            "Epoch 196/200\n",
            "10000/10000 [==============================] - 17s 2ms/step - loss: 6182.9318 - val_loss: 6570.2140\n",
            "Epoch 197/200\n",
            " 4992/10000 [=============>................] - ETA: 7s - loss: 6183.4940"
          ],
          "name": "stdout"
        },
        {
          "output_type": "stream",
          "text": [
            "10000/10000 [==============================] - 17s 2ms/step - loss: 6182.0494 - val_loss: 6613.1027\n",
            "Epoch 198/200\n",
            "10000/10000 [==============================] - 17s 2ms/step - loss: 6185.7864 - val_loss: 6740.4925\n",
            "Epoch 199/200\n",
            "10000/10000 [==============================] - 17s 2ms/step - loss: 6182.9773 - val_loss: 6585.9680\n",
            "Epoch 200/200\n",
            "10000/10000 [==============================] - 17s 2ms/step - loss: 6179.6423 - val_loss: 6635.3947\n"
          ],
          "name": "stdout"
        }
      ]
    },
    {
      "metadata": {
        "id": "H_9UfIJ03Ve4",
        "colab_type": "text"
      },
      "cell_type": "markdown",
      "source": [
        "### Plots\n",
        "Below we are ploting the training and validation loss."
      ]
    },
    {
      "metadata": {
        "id": "Oxg1ALbLFjT9",
        "colab_type": "code",
        "colab": {
          "base_uri": "https://localhost:8080/",
          "height": 376
        },
        "outputId": "9118b996-362c-4dcb-e39e-be4ad71134e5"
      },
      "cell_type": "code",
      "source": [
        "plt.plot(ta[:100],label='Training Loss AMSGRAD',color=(1,0,0))\n",
        "plt.plot(t1[:100],label='Training Loss VAE adam',color=(0,0,1))\n",
        "plt.title('Model Loss')\n",
        "plt.ylabel('Loss')\n",
        "plt.xlabel('Epoch')\n",
        "plt.legend()\n",
        "plt.show()\n"
      ],
      "execution_count": 0,
      "outputs": [
        {
          "output_type": "display_data",
          "data": {
            "image/png": "iVBORw0KGgoAAAANSUhEUgAAAfgAAAFnCAYAAABKGFvpAAAABHNCSVQICAgIfAhkiAAAAAlwSFlz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\nSUVORK5CYII=\n",
            "text/plain": [
              "<matplotlib.figure.Figure at 0x7f2442a5e898>"
            ]
          },
          "metadata": {
            "tags": []
          }
        }
      ]
    },
    {
      "metadata": {
        "id": "ZcMPJoW9nDM7",
        "colab_type": "code",
        "colab": {
          "base_uri": "https://localhost:8080/",
          "height": 376
        },
        "outputId": "dbe402d4-2db0-44c8-b3af-c5b2418ec22a"
      },
      "cell_type": "code",
      "source": [
        "plt.plot(va,label='Validation Loss AMSGRAD',color=(1,0,0))\n",
        "plt.plot(v1,label='Validation Loss VAE adam',color=(0,0,1))\n",
        "plt.title('Model Loss')\n",
        "plt.ylabel('Loss')\n",
        "plt.xlabel('Epoch')\n",
        "plt.legend()\n",
        "plt.show()\n"
      ],
      "execution_count": 0,
      "outputs": [
        {
          "output_type": "display_data",
          "data": {
            "image/png": "iVBORw0KGgoAAAANSUhEUgAAAfgAAAFnCAYAAABKGFvpAAAABHNCSVQICAgIfAhkiAAAAAlwSFlz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\nXwAAAABJRU5ErkJggg==\n",
            "text/plain": [
              "<matplotlib.figure.Figure at 0x7f2442b5f780>"
            ]
          },
          "metadata": {
            "tags": []
          }
        }
      ]
    }
  ]
}
