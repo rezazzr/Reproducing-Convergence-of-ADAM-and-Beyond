{
  "nbformat": 4,
  "nbformat_minor": 0,
  "metadata": {
    "colab": {
      "name": "synthetic_case_experiment.ipynb",
      "version": "0.3.2",
      "provenance": []
    },
    "kernelspec": {
      "name": "python3",
      "display_name": "Python 3"
    }
  },
  "cells": [
    {
      "metadata": {
        "id": "gXHfjG6lbZ89",
        "colab_type": "text"
      },
      "cell_type": "markdown",
      "source": [
        "# Synthetic Case Study:\n",
        "---\n",
        "This file contains the implementation of the first experiment presented in the report *(synthetic case)*. The code is easy to follow and since this is a synthetic experiment the data is produces rather than being imported. As mentioned in the section $2.2.1$ of the report, the data is produced via following the function below:\n",
        "\t\\begin{eqnarray}\n",
        "\t\t\tf_t(x)=\n",
        "            \\begin{cases}\n",
        "\t\t\t\t1010x & \\textrm{with probability } 0.01\\\\\n",
        "            \t-10x & \\textrm{otherwise}.\n",
        "\t\t\t\\end{cases}\n",
        "\t\t\\end{eqnarray}\n",
        "\n",
        "Where the domain of the function is on $[-1,1]$."
      ]
    },
    {
      "metadata": {
        "id": "OXGW5BI4CoFW",
        "colab_type": "code",
        "colab": {}
      },
      "cell_type": "code",
      "source": [
        "import matplotlib.pyplot as plt\n",
        "import tensorflow as tf"
      ],
      "execution_count": 0,
      "outputs": []
    },
    {
      "metadata": {
        "id": "wVdTq-hnCu4l",
        "colab_type": "code",
        "colab": {}
      },
      "cell_type": "code",
      "source": [
        "class AdamOptimizer(tf.train.Optimizer):\n",
        "  def __init__(self, learning_rate=0.001, decay=False, beta1=0.9, beta2=0.99,\n",
        "               epsilon=0.0, var_list=[]):\n",
        "    self.learning_rate = learning_rate\n",
        "    self.decay = decay\n",
        "    self.beta1 = beta1\n",
        "    self.beta2 = beta2\n",
        "    self.epsilon = epsilon\n",
        "    \n",
        "    self.var_list = var_list\n",
        "    self.m = {}\n",
        "    self.v = {}\n",
        "    self.beta1_t = tf.Variable(1.0, trainable=False)\n",
        "    self.beta2_t = tf.Variable(1.0, trainable=False)\n",
        "    self.t = tf.Variable(0.0, trainable=False)\n",
        "    \n",
        "    for var in self.var_list:\n",
        "      self.m[var] = tf.Variable(tf.zeros(tf.shape(var.initial_value)), trainable=False)\n",
        "      self.v[var] = tf.Variable(tf.zeros(tf.shape(var.initial_value)), trainable=False)\n",
        "    \n",
        "  def apply_gradients(self, gradient_variables):\n",
        "    beta1_t = self.beta1_t.assign(self.beta1_t * self.beta1)\n",
        "    beta2_t = self.beta2_t.assign(self.beta2_t * self.beta2)\n",
        "    \n",
        "    with tf.control_dependencies([self.t.assign_add(1.0), beta1_t, beta2_t]):\n",
        "      learning_rate = self.learning_rate\n",
        "      if self.decay:\n",
        "        learning_rate /= tf.sqrt(self.t)\n",
        "      update_ops = []\n",
        "\n",
        "      for (g, var) in gradient_variables:\n",
        "        m = self.m[var].assign(self.beta1 * self.m[var] + (1 - self.beta1) * g)\n",
        "        v = self.v[var].assign(self.beta2 * self.v[var] + (1 - self.beta2) * g * g)\n",
        "        m_hat = m / (1 - beta1_t)\n",
        "        v_hat = v / (1 - beta2_t)\n",
        "\n",
        "        update = -learning_rate * m_hat / (self.epsilon + tf.sqrt(v_hat))\n",
        "        update_ops.append(var.assign_add(update))\n",
        "\n",
        "      return tf.group(*update_ops)"
      ],
      "execution_count": 0,
      "outputs": []
    },
    {
      "metadata": {
        "id": "a-JLVfXDCze0",
        "colab_type": "code",
        "colab": {}
      },
      "cell_type": "code",
      "source": [
        "class AMSGradOptimizer(tf.train.Optimizer):\n",
        "  def __init__(self, learning_rate=0.001, decay=False, beta1=0.9, beta2=0.99,\n",
        "               epsilon=0.0, var_list=[]):\n",
        "    self.learning_rate = learning_rate\n",
        "    self.decay = decay\n",
        "    self.beta1 = beta1\n",
        "    self.beta2 = beta2\n",
        "    self.epsilon = epsilon\n",
        "    \n",
        "    self.var_list = var_list\n",
        "    self.m = {}\n",
        "    self.v = {}\n",
        "    self.v_hat = {}\n",
        "    self.t = tf.Variable(0.0, trainable=False)\n",
        "    \n",
        "    for var in self.var_list:\n",
        "      self.m[var] = tf.Variable(tf.zeros(tf.shape(var.initial_value)), trainable=False)\n",
        "      self.v[var] = tf.Variable(tf.zeros(tf.shape(var.initial_value)), trainable=False)\n",
        "      self.v_hat[var] = tf.Variable(tf.zeros(tf.shape(var.initial_value)), trainable=False)\n",
        "    \n",
        "  def apply_gradients(self, gradient_variables):\n",
        "    with tf.control_dependencies([self.t.assign_add(1.0)]):\n",
        "      learning_rate = self.learning_rate\n",
        "      if self.decay:\n",
        "        learning_rate /= tf.sqrt(self.t)\n",
        "      update_ops = []\n",
        "\n",
        "      for (g, var) in gradient_variables:\n",
        "        m = self.m[var].assign(self.beta1 * self.m[var] + (1 - self.beta1) * g)\n",
        "        v = self.v[var].assign(self.beta2 * self.v[var] + (1 - self.beta2) * g * g)\n",
        "        v_hat = self.v_hat[var].assign(tf.maximum(self.v_hat[var], v))\n",
        "\n",
        "        update = -learning_rate * m / (self.epsilon + tf.sqrt(v_hat))\n",
        "        update_ops.append(var.assign_add(update))\n",
        "\n",
        "      return tf.group(*update_ops)"
      ],
      "execution_count": 0,
      "outputs": []
    },
    {
      "metadata": {
        "id": "EHu5NclLC4dx",
        "colab_type": "code",
        "colab": {}
      },
      "cell_type": "code",
      "source": [
        "def test_optimizer(optimizer_name, iterations=1000000, learning_rate=0.001,\n",
        "                   decay=False):\n",
        "  tf.reset_default_graph()\n",
        "  \n",
        "  with tf.Session() as sess:\n",
        "    r = tf.distributions.Bernoulli(probs=0.01, dtype=tf.float32).sample()\n",
        "    x = tf.Variable(0.0)\n",
        "    loss = (r * 1010 - (1 - r) * 10) * x\n",
        "    var_list = [x]\n",
        "    gradient = tf.gradients(loss, var_list)\n",
        "\n",
        "    if optimizer_name == \"adam\":\n",
        "      optimizer = AdamOptimizer(var_list=var_list, learning_rate=learning_rate,\n",
        "                                decay=decay)\n",
        "    elif optimizer_name == \"amsgrad\":\n",
        "      optimizer = AMSGradOptimizer(var_list=var_list, learning_rate=learning_rate,\n",
        "                                   decay=decay)\n",
        "    else:\n",
        "      raise Exception(\"Unknown optimizer\")\n",
        "\n",
        "    update_op = optimizer.apply_gradients([(grad, var) for grad, var in zip(gradient, var_list)])\n",
        "    with tf.control_dependencies([update_op]):\n",
        "      clip_op = x.assign(tf.clip_by_value(x, -1.0, 1.0))\n",
        "\n",
        "    sess.run(tf.global_variables_initializer())\n",
        "\n",
        "    results = []\n",
        "\n",
        "    for i in range(iterations):\n",
        "      _, cur_x = sess.run([clip_op, x])\n",
        "      results.append(cur_x)\n",
        "      \n",
        "      if i % 500000 == 0:\n",
        "        print(cur_x)\n",
        "\n",
        "    return results"
      ],
      "execution_count": 0,
      "outputs": []
    },
    {
      "metadata": {
        "id": "sliWst3LDE5v",
        "colab_type": "code",
        "colab": {
          "base_uri": "https://localhost:8080/",
          "height": 201
        },
        "outputId": "54e5d36e-861c-4b5c-bdbd-0dc0ec6836f2"
      },
      "cell_type": "code",
      "source": [
        "results_adam = test_optimizer(\"adam\", iterations=5000000, learning_rate=0.5,\n",
        "                              decay=True)"
      ],
      "execution_count": 0,
      "outputs": [
        {
          "output_type": "stream",
          "text": [
            "0.49999967\n",
            "0.99512786\n",
            "0.9844877\n",
            "1.0\n",
            "0.9932289\n",
            "0.99537265\n",
            "0.99267393\n",
            "0.99408305\n",
            "0.9928383\n",
            "0.99858236\n"
          ],
          "name": "stdout"
        }
      ]
    },
    {
      "metadata": {
        "id": "uiwOApu7DIHN",
        "colab_type": "code",
        "colab": {
          "base_uri": "https://localhost:8080/",
          "height": 386
        },
        "outputId": "85d107d8-b7b6-4853-8590-d5c5ba8b9752"
      },
      "cell_type": "code",
      "source": [
        "results_amsgrad = test_optimizer(\"amsgrad\", iterations=10000000, learning_rate=0.5,\n",
        "                                 decay=True)"
      ],
      "execution_count": 0,
      "outputs": [
        {
          "output_type": "stream",
          "text": [
            "0.50000006\n",
            "-0.84852177\n",
            "-0.9791989\n",
            "-0.99953294\n",
            "-0.87611675\n",
            "-0.98729575\n",
            "-0.9243118\n",
            "-0.9561422\n",
            "-0.9893523\n",
            "-0.9869937\n",
            "-0.9866559\n",
            "-0.97423553\n",
            "-0.9717627\n",
            "-0.9841555\n",
            "-0.9432347\n",
            "-0.9875955\n",
            "-0.9563815\n",
            "-0.99707234\n",
            "-0.9990677\n",
            "-0.987113\n"
          ],
          "name": "stdout"
        }
      ]
    },
    {
      "metadata": {
        "id": "w96omRGdDKxj",
        "colab_type": "code",
        "colab": {
          "base_uri": "https://localhost:8080/",
          "height": 376
        },
        "outputId": "4f5da0b4-6f50-4d84-a1b2-530dda29388f"
      },
      "cell_type": "code",
      "source": [
        "plt.plot(results_adam, label=\"Adam\", color=(0,0,1))\n",
        "plt.plot(results_amsgrad, label=\"AMSGRAD\",color=(1,0,0))\n",
        "plt.legend(bbox_to_anchor=(0.8, 0.9), loc=2, borderaxespad=0.)\n",
        "\n",
        "\n",
        "plt.title('Model Loss for the defined function')\n",
        "plt.ylabel('Loss')\n",
        "plt.xlabel('Epochs')\n",
        "plt.legend()\n",
        "plt.show()"
      ],
      "execution_count": 0,
      "outputs": [
        {
          "output_type": "display_data",
          "data": {
            "image/png": "[encoded data removed]",
            "text/plain": [
              "<matplotlib.figure.Figure at 0x7f9d37e12be0>"
            ]
          },
          "metadata": {
            "tags": []
          }
        }
      ]
    }
  ]
}